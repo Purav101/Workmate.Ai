{
 "cells": [
  {
   "cell_type": "code",
   "execution_count": 1,
   "id": "1154e058",
   "metadata": {},
   "outputs": [],
   "source": [
    "from langchain_core.prompts import PromptTemplate\n",
    "from langchain_chroma import Chroma\n",
    "from langchain.text_splitter import RecursiveCharacterTextSplitter\n",
    "from langchain_community.vectorstores import FAISS\n",
    "from langchain_huggingface import HuggingFaceEmbeddings\n",
    "from langchain_community.document_loaders import PyPDFLoader,DirectoryLoader\n",
    "from langchain_google_genai import GoogleGenerativeAIEmbeddings\n",
    "from langchain_core.runnables import RunnablePassthrough,RunnableParallel,RunnableSequence,RunnableLambda"
   ]
  },
  {
   "cell_type": "code",
   "execution_count": 3,
   "id": "488f55e6",
   "metadata": {},
   "outputs": [],
   "source": [
    "loader = PyPDFLoader(\"Employee_Manual.pdf\")"
   ]
  },
  {
   "cell_type": "code",
   "execution_count": 4,
   "id": "64525ef4",
   "metadata": {},
   "outputs": [],
   "source": [
    "docs = loader.load()"
   ]
  },
  {
   "cell_type": "code",
   "execution_count": 4,
   "id": "ae99a84c",
   "metadata": {},
   "outputs": [
    {
     "name": "stdout",
     "output_type": "stream",
     "text": [
      "92\n"
     ]
    }
   ],
   "source": [
    "print(len(docs))"
   ]
  },
  {
   "cell_type": "code",
   "execution_count": 95,
   "id": "b3b89e6e",
   "metadata": {},
   "outputs": [
    {
     "name": "stdout",
     "output_type": "stream",
     "text": [
      "11 \n",
      " \n",
      "4.5 Employment Eligibility \n",
      " \n",
      "The Immigration Reform and Control Act mandates that Temple University verify the \n",
      "identity and work eligibility of all employees. Therefore, within three workdays of the start \n",
      "of employment, all employees must provide the Human Resources Department with proof of \n",
      "employment eligibility and identity, and complete and sign the I-9 form. \n",
      " \n",
      "Any individual who fails to provide necessary, original, unexpired documentation to Human \n",
      "Resources within three days of the start of employment will be suspended without pay \n",
      "pending termination. The Human Resources Department has a list of acceptable documents \n",
      "that establish identity and/or employment verification. \n",
      " \n",
      "4.6 Sponsorship of Foreign Nationals for Lawful Permanent U.S. Residence \n",
      " \n",
      "Temple University typically will sponsor foreign nationals who are full-time, regular \n",
      "members of the faculty in tenure and tenure-track academic job classifications, provided the \n",
      "Dean of the School or College and department chair agree to support the application. These \n",
      "positions include professor, associate professor and assistant professor. To see the entire \n",
      "policy, go to the HR website at www.temple.edu/hr/managers/index.html. \n",
      " \n",
      "4.7 Identification Cards \n",
      " \n",
      "The Human Resources Department will issue a photo identification card to all employees. \n",
      "Every employee is required to display his or her identification so that it is visible when \n",
      "entering university buildings, offices, and facilities. Any employee refusing to show his or \n",
      "her Temple ID when requested will be subject to disciplinary action up to and including \n",
      "termination from employment. \n",
      " \n",
      "The OWLcard Office will issue identification cards to individuals who are not Temple \n",
      "University employees but require access to university services or facilities. Any individual \n",
      "who loses a Temple University-issued identification card should notify either the Human \n",
      "Resources Department or OWLcard Office immediately. A fee may be charged to replace a \n",
      "lost card. \n",
      " \n",
      "The ID card remains Temple University property and must be returned along with all other \n",
      "university property when an individual leaves Temple University for any reason.\n"
     ]
    }
   ],
   "source": [
    "print(docs[17].page_content)"
   ]
  },
  {
   "cell_type": "code",
   "execution_count": 40,
   "id": "94f0c570",
   "metadata": {},
   "outputs": [],
   "source": [
    "splitter = RecursiveCharacterTextSplitter(chunk_size=1000,chunk_overlap=300)\n",
    "chunks = splitter.split_documents(docs)"
   ]
  },
  {
   "cell_type": "code",
   "execution_count": 12,
   "id": "c28c0249",
   "metadata": {},
   "outputs": [
    {
     "name": "stdout",
     "output_type": "stream",
     "text": [
      "page_content='performing the essential functions of the position, with or without reasonable \n",
      "accommodation. Upon request by an applicant, Temple University will make a rea sonable \n",
      "accommodation for qualified individuals with disabilities.  \n",
      " \n",
      "Jobs with exposure to lead, heavy metals, pesticides or chemicals may require baseline \n",
      "blood or urine testing. Positions with potential exposure to asbestos or other airborne \n",
      "hazards may require respiratory tests and X-rays. Other jobs may require TB and blood-' metadata={'producer': 'Microsoft® Word for Microsoft 365', 'creator': 'Microsoft® Word for Microsoft 365', 'creationdate': '2025-07-14T10:10:58-04:00', 'author': 'Linda M. Walker', 'moddate': '2025-07-14T10:10:58-04:00', 'source': 'Employee_Manual.pdf', 'total_pages': 92, 'page': 16, 'page_label': '17'}\n"
     ]
    }
   ],
   "source": [
    "print(chunks[70])"
   ]
  },
  {
   "cell_type": "code",
   "execution_count": 2,
   "id": "6f701a9d",
   "metadata": {},
   "outputs": [
    {
     "name": "stderr",
     "output_type": "stream",
     "text": [
      "c:\\Users\\apurv\\AppData\\Local\\Programs\\Python\\Python312\\Lib\\site-packages\\tqdm\\auto.py:21: TqdmWarning: IProgress not found. Please update jupyter and ipywidgets. See https://ipywidgets.readthedocs.io/en/stable/user_install.html\n",
      "  from .autonotebook import tqdm as notebook_tqdm\n"
     ]
    },
    {
     "name": "stdout",
     "output_type": "stream",
     "text": [
      "WARNING:tensorflow:From c:\\Users\\apurv\\AppData\\Local\\Programs\\Python\\Python312\\Lib\\site-packages\\tf_keras\\src\\losses.py:2976: The name tf.losses.sparse_softmax_cross_entropy is deprecated. Please use tf.compat.v1.losses.sparse_softmax_cross_entropy instead.\n",
      "\n"
     ]
    }
   ],
   "source": [
    "model_name =\"BAAI/bge-large-en\"\n",
    "model_kwargs = {'device': 'cuda'}\n",
    "encode_kwargs = {'normalize_embeddings':False}\n",
    "embeddings =  HuggingFaceEmbeddings(\n",
    "    model_name = model_name,\n",
    "    model_kwargs = model_kwargs,\n",
    "    encode_kwargs = encode_kwargs \n",
    ")"
   ]
  },
  {
   "cell_type": "code",
   "execution_count": 41,
   "id": "b182ee5f",
   "metadata": {},
   "outputs": [
    {
     "name": "stdout",
     "output_type": "stream",
     "text": [
      "Vector storage is created.....\n"
     ]
    }
   ],
   "source": [
    "#chroma\n",
    "vector_store = Chroma .from_documents(chunks,embeddings, collection_metadata = {\"hnsw : space\": \"cosine\"},\n",
    "persist_directory = \"stores3/temple_cosine3\")\n",
    "print(\"Vector storage is created.....\")"
   ]
  },
  {
   "cell_type": "code",
   "execution_count": 42,
   "id": "da6a4216",
   "metadata": {},
   "outputs": [],
   "source": [
    "#loading chroma\n",
    "load_vectore_store= Chroma(persist_directory=\"stores3/temple_cosine3\",embedding_function=embeddings)"
   ]
  },
  {
   "cell_type": "code",
   "execution_count": 43,
   "id": "f8f6d9c3",
   "metadata": {},
   "outputs": [],
   "source": [
    "retriever= load_vectore_store.as_retriever(search_type=\"mmr\",search_kwargs={\"k\":6})"
   ]
  },
  {
   "cell_type": "code",
   "execution_count": 32,
   "id": "7a449dff",
   "metadata": {},
   "outputs": [],
   "source": [
    "response = retriever.invoke(\"new hires \")"
   ]
  },
  {
   "cell_type": "code",
   "execution_count": 11,
   "id": "f9977a7c",
   "metadata": {},
   "outputs": [
    {
     "name": "stdout",
     "output_type": "stream",
     "text": [
      "[Document(id='f4cb877c-6e04-4218-99d4-34997bb9a775', metadata={'creator': 'Microsoft® Word for Microsoft 365', 'page_label': '48', 'source': 'Employee_Manual.pdf', 'moddate': '2025-07-14T10:10:58-04:00', 'creationdate': '2025-07-14T10:10:58-04:00', 'producer': 'Microsoft® Word for Microsoft 365', 'author': 'Linda M. Walker', 'total_pages': 92, 'page': 47}, page_content='regular internal recruitment responsibilities. To start this process, contact the Human \\nResources Department at (215) 204-7174. To view the entire policy, go to the HR website \\nhttps://www.temple.edu/hr/managers/documents/Temp_To_Hire_Policy.pdf . \\n \\n10.7  New Hire: Introductory/Probationary Period \\n \\nAll new employees must complete an introductory or probationary period. The introductory \\nperiod for staff and administrative non-bargaining unit employees is six months and can be \\nextended for up to another six months based on performance (as discussed with the \\nemployee) during the introductory period. The probationary period for bargaining unit \\nemployees is set forth in the applicable collective bargaining agreement. This time allows \\neach employee to become acquainted with his or her new position and the work \\nenvironment. \\n \\nDuring the introductory/probationary period, the employee’s immediate supervisor will'), Document(id='e82d108f-41f7-49ba-bca8-d0a3db554ddd', metadata={'creator': 'Microsoft® Word for Microsoft 365', 'total_pages': 92, 'author': 'Linda M. Walker', 'creationdate': '2025-07-14T10:10:58-04:00', 'producer': 'Microsoft® Word for Microsoft 365', 'page_label': '32', 'page': 31, 'moddate': '2025-07-14T10:10:58-04:00', 'source': 'Employee_Manual.pdf'}, page_content='Employees who leave the University and are rehired are treated as new employees for purposes \\nof determining eligibility for tuition remission for dependent children.')]\n"
     ]
    }
   ],
   "source": [
    "print(response)"
   ]
  },
  {
   "cell_type": "code",
   "execution_count": 13,
   "id": "2e5dc51e",
   "metadata": {},
   "outputs": [
    {
     "name": "stdout",
     "output_type": "stream",
     "text": [
      "regular internal recruitment responsibilities. To start this process, contact the Human \n",
      "Resources Department at (215) 204-7174. To view the entire policy, go to the HR website \n",
      "https://www.temple.edu/hr/managers/documents/Temp_To_Hire_Policy.pdf . \n",
      " \n",
      "10.7  New Hire: Introductory/Probationary Period \n",
      " \n",
      "All new employees must complete an introductory or probationary period. The introductory \n",
      "period for staff and administrative non-bargaining unit employees is six months and can be \n",
      "extended for up to another six months based on performance (as discussed with the \n",
      "employee) during the introductory period. The probationary period for bargaining unit \n",
      "employees is set forth in the applicable collective bargaining agreement. This time allows \n",
      "each employee to become acquainted with his or her new position and the work \n",
      "environment. \n",
      " \n",
      "During the introductory/probationary period, the employee’s immediate supervisor will\n",
      "\n",
      "Employees who leave the University and are rehired are treated as new employees for purposes \n",
      "of determining eligibility for tuition remission for dependent children.\n"
     ]
    }
   ],
   "source": [
    "print(format_docs(response))"
   ]
  },
  {
   "cell_type": "code",
   "execution_count": 12,
   "id": "2d0e6e1c",
   "metadata": {},
   "outputs": [],
   "source": [
    "def format_docs(retrieved_docs):\n",
    "    context_text=\"\\n\\n\".join(doc.page_content for doc in retrieved_docs )\n",
    "    return context_text\n"
   ]
  },
  {
   "cell_type": "code",
   "execution_count": 44,
   "id": "dec1baeb",
   "metadata": {},
   "outputs": [],
   "source": [
    "context_chain = RunnableSequence(retriever,RunnableLambda(format_docs))"
   ]
  },
  {
   "cell_type": "code",
   "execution_count": 45,
   "id": "39de48d7",
   "metadata": {},
   "outputs": [
    {
     "name": "stdout",
     "output_type": "stream",
     "text": [
      "40 \n",
      " \n",
      "Any employee may bid for a position in a confidential manner without prior consent or \n",
      "approval from his or her supervisor. \n",
      " \n",
      "10.4  Interview Process  \n",
      " \n",
      "The Human Resources Department forwards application materials that meet the stated \n",
      "requirements for a vacant position to the hiring department, which then screens the \n",
      "application material and works with Human Resources to determine which candidates are to \n",
      "be interviewed. \n",
      " \n",
      "Employees may schedule interviews during working hours as long as the interview does not \n",
      "interfere with the obligations of his/her current position. If an employee is selected for an \n",
      "interview, the employee is encouraged to discuss the posting with his or her supervisor. \n",
      "Employees who have questions about this process may contact the Human Resources \n",
      "Department. \n",
      " \n",
      "Bargaining unit employees should consult their collective bargaining agreement for further \n",
      "information.\n",
      "\n",
      "85\n",
      "\n",
      "83\n",
      "\n",
      "Temple University Department of Human \n",
      "Resources Employee Manual \n",
      "Revised: July 2025\n",
      " \n",
      "Temple University \n",
      "Employee Manual\n",
      "\n",
      "deems appropriate (See Section 11.10, Drug & Alcohol Testing). This pre -employment \n",
      "health assessment will be used to determine whether or not the applicant is capable of \n",
      "performing the essential functions of the position, with or without reasonable \n",
      "accommodation. Upon request by an applicant, Temple University will make a rea sonable \n",
      "accommodation for qualified individuals with disabilities.  \n",
      " \n",
      "Jobs with exposure to lead, heavy metals, pesticides or chemicals may require baseline \n",
      "blood or urine testing. Positions with potential exposure to asbestos or other airborne \n",
      "hazards may require respiratory tests and X-rays. Other jobs may require TB and blood-\n",
      "borne pathogen immunization. Work with some wild or domestic animals may require a \n",
      "medical screen. Positions with exposure to noise levels above 85 decibels may require a \n",
      "baseline audiogram. \n",
      " \n",
      "The results of a pre-employment health assessment will be considered in the context of the\n",
      "\n",
      "employees at least once every quarter and should record comments on PDPs to document \n",
      "progress, accomplishments and problems. \n",
      " \n",
      "During the fiscal year, employees should update their PDP with comments in to the “Employee \n",
      "Comments” section. Supervisors should review these comments, update their own comments, and \n",
      "accurately and fairly rate employees based on the documentation of their performance. If \n",
      "required in their department, the supervisor should then send the PDP to his/her supervisor \n",
      "to review. Finally, the supervisor should have an in-person meeting with the employee to \n",
      "review the unrated PDP before electronically sending the rated version to the employee for \n",
      "review. \n",
      " \n",
      "While the end-of-the-year ratings should not be a surprise to employees, employees who \n",
      "believe their supervisors’ evaluations are inaccurate may detail their concerns in the \n",
      "Employee Comments section of the Performance Development Plan. Non-bargaining unit\n"
     ]
    }
   ],
   "source": [
    "a = context_chain.invoke(\"What is the interview process \")\n",
    "print(a)"
   ]
  },
  {
   "cell_type": "code",
   "execution_count": null,
   "id": "9ed69719",
   "metadata": {},
   "outputs": [
    {
     "name": "stdout",
     "output_type": "stream",
     "text": [
      "83\n",
      "\n",
      "identification card falsely identifying that person as being twenty-one years of age or \n",
      "older, or to obtain or attempt to obtain liquor or malt or brewed beverages by using a \n",
      "false identification card. Penalties are stated in (2) above. \n",
      "5. It is a crime intentionally, knowingly or recklessly to manufacture, make, alter, \n",
      "sell or attempt to sell an identification card falsely representing the identity, birth\n"
     ]
    }
   ],
   "source": [
    "print(a)"
   ]
  },
  {
   "cell_type": "code",
   "execution_count": null,
   "id": "9620cbaf",
   "metadata": {},
   "outputs": [],
   "source": []
  }
 ],
 "metadata": {
  "kernelspec": {
   "display_name": "Python 3",
   "language": "python",
   "name": "python3"
  },
  "language_info": {
   "codemirror_mode": {
    "name": "ipython",
    "version": 3
   },
   "file_extension": ".py",
   "mimetype": "text/x-python",
   "name": "python",
   "nbconvert_exporter": "python",
   "pygments_lexer": "ipython3",
   "version": "3.12.6"
  }
 },
 "nbformat": 4,
 "nbformat_minor": 5
}
